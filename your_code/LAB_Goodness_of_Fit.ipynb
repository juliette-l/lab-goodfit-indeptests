{
 "cells": [
  {
   "cell_type": "markdown",
   "metadata": {},
   "source": [
    "## Question 1\n",
    "The following table indicates the number of 6-point scores in an American rugby match in the 1979 season.\n",
    "\n",
    "![](table1.png)\n",
    "\n",
    "Based on these results, we create a Poisson distribution with the sample mean parameter  = 2.435. Is there any reason to believe that at a .05 level the number of scores is a Poisson variable?"
   ]
  },
  {
   "cell_type": "code",
   "execution_count": 26,
   "metadata": {},
   "outputs": [],
   "source": [
    "import scipy\n",
    "import numpy as np\n",
    "import matplotlib.pyplot as plt\n",
    "import pandas as pd\n",
    "from scipy import stats\n",
    "from scipy import interpolate\n",
    "from scipy.interpolate import interp1d\n",
    "\n",
    "# Librarie for hypothesis testing:\n",
    "from scipy.stats import ttest_1samp, ttest_rel, ttest_ind\n",
    "from scipy.stats import f_oneway\n",
    "\n",
    "from scipy.stats import uniform\n",
    "from scipy.stats import expon\n",
    "from scipy.stats import norm\n",
    "from scipy.stats import poisson\n",
    "from scipy.stats import binom"
   ]
  },
  {
   "cell_type": "code",
   "execution_count": 27,
   "metadata": {},
   "outputs": [],
   "source": [
    "# your answer here\n",
    "def pm_function (x):\n",
    "    expected_var = poisson.pmf(x, 2.435) * 448\n",
    "    return expected_var\n",
    "\n",
    "x_1 = [0,1,2,3,4,5,6,7]\n",
    "y_1 = [35,99,104,110,62,25,10,3]\n"
   ]
  },
  {
   "cell_type": "code",
   "execution_count": 28,
   "metadata": {},
   "outputs": [
    {
     "data": {
      "text/plain": [
       "array([ 39.24379068,  95.5586303 , 116.34263239,  94.43143662,\n",
       "        57.48513704,  27.99526174,  11.36141039,   3.95214776])"
      ]
     },
     "execution_count": 28,
     "metadata": {},
     "output_type": "execute_result"
    }
   ],
   "source": [
    "expected_var_1 = pm_function(x_1)\n",
    "expected_var_1"
   ]
  },
  {
   "cell_type": "code",
   "execution_count": 29,
   "metadata": {},
   "outputs": [
    {
     "data": {
      "text/plain": [
       "Power_divergenceResult(statistic=5.526588649191276, pvalue=0.5959787428784398)"
      ]
     },
     "execution_count": 29,
     "metadata": {},
     "output_type": "execute_result"
    }
   ],
   "source": [
    "observed_values=scipy.array(y_1)\n",
    "expected_values=scipy.array(expected_var_1)\n",
    "\n",
    "stats.chisquare(observed_values, f_exp=expected_values)"
   ]
  },
  {
   "cell_type": "code",
   "execution_count": 30,
   "metadata": {},
   "outputs": [],
   "source": [
    "# P value = 0.59, so in the 95% interval. This means that it´s the 95% interval."
   ]
  },
  {
   "cell_type": "code",
   "execution_count": 31,
   "metadata": {},
   "outputs": [],
   "source": [
    "# Explanation for own purposes:\n",
    "\n",
    "# poisson.pmf(1, 2.435) # (= total)\n",
    "# Probablity of getting a 1 in Poisson distribution is:\n",
    "# poisson.pmf(1, mean)\n",
    "# poisson.pmf(1, mean) * n : this is the expected frequency with the sample of n values.\n",
    "\n",
    "# Observed values: these are the actual frequencies of the table\n",
    "# expected values: the items calculated.\n"
   ]
  },
  {
   "cell_type": "code",
   "execution_count": 32,
   "metadata": {},
   "outputs": [],
   "source": [
    "# The Poisson Distribution is used to predict how many times something might happen in a specific timeframe.\n",
    "# Since this is a prediction of the scores in a timeframe, the Poisson distribution can be used.\n"
   ]
  },
  {
   "cell_type": "markdown",
   "metadata": {},
   "source": [
    "## Question 2\n",
    "The following are the ordered values of a random sample of SAT scores (university entrance exam) for several students: 852, 875, 910, 933, 957, 963, 981, 998, 1010, 1015, 1018, 1023, 1035, 1048, 1063. In previous years, the scores were presented by N (985,50). Based on the sample, is there any reason to believe that there has been a change in the distribution of scores this year? Use the level alpha = 0.05. "
   ]
  },
  {
   "cell_type": "code",
   "execution_count": 33,
   "metadata": {},
   "outputs": [
    {
     "data": {
      "text/plain": [
       "Ttest_1sampResult(statistic=-0.29971364866767636, pvalue=0.7691339743827507)"
      ]
     },
     "execution_count": 33,
     "metadata": {},
     "output_type": "execute_result"
    }
   ],
   "source": [
    "# your answer here\n",
    "\n",
    "SAT_scores = [852, 875, 910, 933, 963, 981, 998, 1010, 1015, 1018, 1023, 1035, 1048, 1063]\n",
    "\n",
    "ttest_1samp(SAT_scores, 985.50)\n",
    "\n",
    "# Since the p value is over 2.5%, it means that the scores mean is still in the 95% confidence interval.\n",
    "# This means that there has not been a change of distribution of scores."
   ]
  },
  {
   "cell_type": "markdown",
   "metadata": {},
   "source": [
    "## Question 3\n",
    "Let's analyze a discrete distribution. To analyze the number of defective items in a factory in the city of Medellín, we took a random sample of n = 60 articles and observed the number of defectives in the following table:\n",
    "\n",
    "![](table4.png)\n",
    "\n",
    "A poissón distribution was proposed since it is defined for x = 0,1,2,3, .... using the following model:\n",
    "\n",
    "![](image1.png)\n",
    "\n",
    "Does the distribution of defective items follow this distribution?"
   ]
  },
  {
   "cell_type": "code",
   "execution_count": 34,
   "metadata": {},
   "outputs": [
    {
     "data": {
      "text/plain": [
       "array([22.07276647, 22.07276647,  3.67879441,  0.9196986 ])"
      ]
     },
     "execution_count": 34,
     "metadata": {},
     "output_type": "execute_result"
    }
   ],
   "source": [
    "# your code here:\n",
    "\n",
    "def pm_function (x):\n",
    "    expected_var = poisson.pmf(x, 1.0) * 60\n",
    "    return expected_var\n",
    "\n",
    "x_2 = [0,1,3,4]\n",
    "y_2 = [32,15,9,4]\n",
    "\n",
    "expected_var_2 = pm_function(x_2)\n",
    "expected_var_2"
   ]
  },
  {
   "cell_type": "code",
   "execution_count": 35,
   "metadata": {},
   "outputs": [
    {
     "data": {
      "text/plain": [
       "Power_divergenceResult(statistic=24.744679196961386, pvalue=1.7459633255895265e-05)"
      ]
     },
     "execution_count": 35,
     "metadata": {},
     "output_type": "execute_result"
    }
   ],
   "source": [
    "observed_values=scipy.array(y_2)\n",
    "expected_values=scipy.array(expected_var_2)\n",
    "\n",
    "stats.chisquare(observed_values, f_exp=expected_values)"
   ]
  },
  {
   "cell_type": "code",
   "execution_count": 36,
   "metadata": {},
   "outputs": [],
   "source": [
    "# P value is very low, therefore H0 can be rejected, which means that we cannot prove that the distributions are the same.\n",
    "# So the defective items don´t follow the Poisson distribution."
   ]
  },
  {
   "cell_type": "markdown",
   "metadata": {},
   "source": [
    "## Question 4\n",
    "A quality control engineer takes a sample of 10 tires that come out of an assembly line, and would like to verify on the basis of the data that follows, if the number of tires with defects observed over 200 days, if it is true that 5% of all tires have defects (that is, if the sample comes from a binomial population with n = 10 and p = 0.05). \n",
    "\n",
    "![](table6.png)\n"
   ]
  },
  {
   "cell_type": "code",
   "execution_count": 41,
   "metadata": {},
   "outputs": [],
   "source": [
    "# your answer here:\n",
    "x_3 = [0,1,2]\n",
    "y_3 = [138, 53, 9]\n",
    "\n",
    "n = 10\n",
    "p = 0.05\n",
    "k = x_3\n",
    "\n",
    "def pm_function_binom (x):\n",
    "    expected_var_3 = binom.pmf(k,n,p) * 200\n",
    "    return expected_var_3"
   ]
  },
  {
   "cell_type": "code",
   "execution_count": 42,
   "metadata": {},
   "outputs": [
    {
     "data": {
      "text/plain": [
       "array([119.74738785,  63.02494097,  14.9269597 ])"
      ]
     },
     "execution_count": 42,
     "metadata": {},
     "output_type": "execute_result"
    }
   ],
   "source": [
    "expected_var_3 = pm_function_binom(x_3)\n",
    "expected_var_3"
   ]
  },
  {
   "cell_type": "code",
   "execution_count": 43,
   "metadata": {},
   "outputs": [
    {
     "data": {
      "text/plain": [
       "Power_divergenceResult(statistic=6.730152995610064, pvalue=0.034559372300758)"
      ]
     },
     "execution_count": 43,
     "metadata": {},
     "output_type": "execute_result"
    }
   ],
   "source": [
    "observed_values=scipy.array(y_3)\n",
    "expected_values=scipy.array(expected_var_3)\n",
    "\n",
    "stats.chisquare(observed_values, f_exp=expected_values)"
   ]
  },
  {
   "cell_type": "code",
   "execution_count": null,
   "metadata": {},
   "outputs": [],
   "source": [
    "# P value is low, therefore H0 can be rejected (with a 95% confidence interval), which means that we cannot prove that the distributions are the same.\n",
    "# So the defective items don´t follow the Binomial distribution.\n",
    "# Therefore we cannot say that 5% of all tires have defects."
   ]
  },
  {
   "cell_type": "code",
   "execution_count": 30,
   "metadata": {},
   "outputs": [
    {
     "data": {
      "text/plain": [
       "<matplotlib.collections.LineCollection at 0x1a1a2a9e10>"
      ]
     },
     "execution_count": 30,
     "metadata": {},
     "output_type": "execute_result"
    },
    {
     "data": {
      "image/png": "[encoded data removed]",
      "text/plain": [
       "<Figure size 432x288 with 1 Axes>"
      ]
     },
     "metadata": {
      "needs_background": "light"
     },
     "output_type": "display_data"
    }
   ],
   "source": [
    "# Below are scraps, please disregard.\n",
    "\n",
    "# Binomial: how many consecutive items in a time window can we get. \n",
    "# importing libraries\n",
    "%matplotlib inline\n",
    "from scipy import stats\n",
    "from scipy.stats import binom\n",
    "\n",
    "n=10\n",
    "p=0.05\n",
    "\n",
    "# Initialization:\n",
    "binomial = binom(n,p)\n",
    "\n",
    "# Getting the simulation of the data with n= 10:\n",
    "\n",
    "x = np.arange(0,10)\n",
    "fig, ax = plt.subplots(1, 1)\n",
    "ax.plot(x, binom.pmf(x, n, p), 'bo')\n",
    "ax.vlines(x, 0, binom.pmf(x, n, p), colors='b', lw=5, alpha=0.05)\n",
    "\n",
    "# Based on the below graph, the probability of getting a defect is 0.3, so it´s less than 5 %"
   ]
  },
  {
   "cell_type": "code",
   "execution_count": 31,
   "metadata": {},
   "outputs": [
    {
     "data": {
      "text/plain": [
       "(array([6., 0., 0., 3., 0., 0., 0., 0., 0., 1.]),\n",
       " array([0. , 0.3, 0.6, 0.9, 1.2, 1.5, 1.8, 2.1, 2.4, 2.7, 3. ]),\n",
       " <a list of 10 Patch objects>)"
      ]
     },
     "execution_count": 31,
     "metadata": {},
     "output_type": "execute_result"
    },
    {
     "data": {
      "image/png": "[encoded data removed]",
      "text/plain": [
       "<Figure size 432x288 with 1 Axes>"
      ]
     },
     "metadata": {
      "needs_background": "light"
     },
     "output_type": "display_data"
    }
   ],
   "source": [
    "x = binomial.rvs(10)\n",
    "plt.hist(x)"
   ]
  },
  {
   "cell_type": "markdown",
   "metadata": {},
   "source": [
    "## Question 5\n",
    "A researcher gathers information about the patterns of physical activity (AF) of children in the fifth grade of primary school of a public school. He defines three categories of physical activity (1 = Low, 2 = Medium, 3 = High). He also inquires about the regular consumption of sugary drinks at school, and defines two categories (1 = consumed, 0 = not consumed). We would like to evaluate if there is an association between patterns of physical activity and the consumption of sugary drinks for the children of this school, at a level of 5% significance. The results are in the following table: \n",
    "\n",
    "![](table5.png)"
   ]
  },
  {
   "cell_type": "code",
   "execution_count": 64,
   "metadata": {},
   "outputs": [],
   "source": [
    "#your answer here\n",
    "# H0 hypothesis is that there is a relation between the two variables.\n",
    "# Since you have a contingency table, you can do a Chi square test\n",
    "# Observed values are the ones in the contingency table\n",
    "# Expected values: multiply the items of total Si with Total baja and divide by grand total\n",
    "# The items have to be in order baja si/no (to make sure that the lists are comparable)\n",
    "# Calculate the degrees of freedom, which in this case is columns -1 * rows -1 (=2)\n",
    "# Then use the Chi Square test\n",
    "# Expected variables (theoretical var) and observed variabla (statistical/measured variable)\n",
    "\n",
    "#def expected_val_func (x_list, y_list):\n",
    "    #expected_values = [(x * y)/95 for x in x_list]\n",
    "    #return expected_values\n",
    "\n",
    "x_list = [52,43]\n",
    "y_list = [44,36,15]\n",
    "n = 2\n",
    "n_1 = 3"
   ]
  },
  {
   "cell_type": "code",
   "execution_count": 69,
   "metadata": {},
   "outputs": [
    {
     "data": {
      "text/plain": [
       "5.991464547107979"
      ]
     },
     "execution_count": 69,
     "metadata": {},
     "output_type": "execute_result"
    }
   ],
   "source": [
    "observed_values = [32,12,14,22,6,9]\n",
    "expected_values = [24,20,20,16,8,7]\n",
    "\n",
    "# Calculating the degrees of freedom\n",
    "dof = (n-1) * (n_1 -1)\n",
    "dof\n",
    "\n",
    "# Using the Chi Square Test\n",
    "\n",
    "from math import pow\n",
    "chi2 = sum(pow(expected_values[i]-observed_values[i],2)/expected_values[i] for i in range(len(observed_values)))\n",
    "\n",
    "from scipy.stats import chi2\n",
    "critical_value = chi2.ppf(q=1-0.05, df=dof)\n",
    "critical_value\n",
    "\n",
    "# I´m still not sure about what I´m doing (very sorry :("
   ]
  },
  {
   "cell_type": "code",
   "execution_count": null,
   "metadata": {},
   "outputs": [],
   "source": []
  }
 ],
 "metadata": {
  "kernelspec": {
   "display_name": "Python 3",
   "language": "python",
   "name": "python3"
  },
  "language_info": {
   "codemirror_mode": {
    "name": "ipython",
    "version": 3
   },
   "file_extension": ".py",
   "mimetype": "text/x-python",
   "name": "python",
   "nbconvert_exporter": "python",
   "pygments_lexer": "ipython3",
   "version": "3.7.4"
  }
 },
 "nbformat": 4,
 "nbformat_minor": 2
}
